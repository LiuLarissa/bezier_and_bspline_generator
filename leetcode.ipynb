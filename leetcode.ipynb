{
 "cells": [
  {
   "cell_type": "code",
   "execution_count": null,
   "metadata": {},
   "outputs": [],
   "source": [
    "class UnionFind:\n",
    "    def __init__(self,n):\n",
    "        self.parent=list(range(n))\n",
    "        self.size=[1]*n\n",
    "        self.n=n\n",
    "        self.setCount=n\n",
    "    \n",
    "    def findset(self,x):\n",
    "        if self.parent[x]==x:return x\n",
    "        self.parent[x]=self.findset(self.parent[x])\n",
    "        return self.parent[x]\n",
    "    \n",
    "    def unite(self,x,y):\n",
    "        x,y=self.findset(x),self.findset(y)\n",
    "        if x==y:return False\n",
    "        if self.size[x]<self.size[y]:\n",
    "            x,y=y,x\n",
    "        self.parent[y]=x\n",
    "        self.size[x]+=self.size[y]\n",
    "        self.setCount-=1\n",
    "        return True\n",
    "    \n",
    "    def connected(self,x,y):\n",
    "        x,y=self.findset(x),self.findset(y)\n",
    "        return x==y\n",
    "\n",
    "class Solution:\n",
    "    def makeConnected(self,n,connections):\n",
    "        if len(connections)<n-1:return -1\n",
    "        uf=UnionFind(n)\n",
    "        for x,y in connections:\n",
    "            uf.unite(x,y)\n",
    "        return uf.setCount-1\n"
   ]
  },
  {
   "cell_type": "code",
   "execution_count": 3,
   "metadata": {},
   "outputs": [
    {
     "name": "stdout",
     "output_type": "stream",
     "text": [
      "[(1, 1)]\n"
     ]
    }
   ],
   "source": [
    "class Solution:\n",
    "    # 多源BFS\n",
    "    def maxDistance(self,grid):\n",
    "        m,n=len(grid),len(grid[0])\n",
    "        nodes=[]\n",
    "        for i in range(m):\n",
    "            for j in range(n):\n",
    "                if grid[i][j]==1:\n",
    "                    nodes.append((i,j))\n",
    "        if len(nodes)==0 or len(nodes)==m*n:return -1\n",
    "        coors=[[0,1],[0,-1],[-1,0],[1,0]]\n",
    "        step=1\n",
    "        while len(nodes)!=0:\n",
    "            tmp=[]\n",
    "            for i,j in nodes:\n",
    "                for k in coors:\n",
    "                    r,c=i+k[0],j+k[1]\n",
    "                    if r<0 or c<0:continue\n",
    "                    elif r>=m or c>=n:continue\n",
    "                    else:\n",
    "                        if grid[r][c]==0:\n",
    "                            tmp.append((r,c))\n",
    "                            grid[r][c]=step\n",
    "            nodes=tmp\n",
    "            step+=1\n",
    "        return step-2\n",
    "        \n",
    "\n",
    "                  \n",
    "\n",
    "grid = [[1,0,1],[0,0,0],[1,0,1]]\n",
    "\n",
    "solution=Solution()\n",
    "solution.maxDistance(grid)\n",
    "       "
   ]
  },
  {
   "cell_type": "code",
   "execution_count": 5,
   "metadata": {},
   "outputs": [
    {
     "data": {
      "image/png": "[encoded data removed]",
      "text/plain": [
       "<Figure size 640x480 with 1 Axes>"
      ]
     },
     "metadata": {},
     "output_type": "display_data"
    }
   ],
   "source": [
    "import matplotlib.pyplot as plt\n",
    "from sklearn.linear_model import LinearRegression\n",
    "\n",
    "X=[[1],[2],[4],[5]]\n",
    "Y=[2,4,6,8]\n",
    "regr=LinearRegression()\n",
    "regr.fit(X,Y)\n",
    "\n",
    "plt.scatter(X,Y)\n",
    "plt.plot(X,regr.predict(X))\n",
    "plt.show()\n",
    "print(str(regr.coef_[0]))\n",
    "print(str(regr.intercept_))"
   ]
  },
  {
   "cell_type": "code",
   "execution_count": 10,
   "metadata": {},
   "outputs": [
    {
     "data": {
      "text/plain": [
       "[3, 3]"
      ]
     },
     "execution_count": 10,
     "metadata": {},
     "output_type": "execute_result"
    }
   ],
   "source": [
    "class Solution:\n",
    "    def pancakeSort(self,arr):\n",
    "        n=len(arr)\n",
    "        index=[i for i in range(n)]\n",
    "        for i in range(n):\n",
    "            index[arr[i]-1]=i\n",
    "        ans=[]\n",
    "        def dfs():\n",
    "            length=len(index)\n",
    "            if length==2:\n",
    "                if index[0]<index[1]:return\n",
    "                else:\n",
    "                    ans.append(2)\n",
    "                    return\n",
    "            i=index[length-1]\n",
    "            ans.append(i+1)\n",
    "            ans.append(length)\n",
    "            for j,val in enumerate(index):\n",
    "                if val==i:\n",
    "                    index[j]=length-1\n",
    "                elif val>i:\n",
    "                    index[j]=length-1-val\n",
    "                else:\n",
    "                    index[j]=length-1-i+val\n",
    "            index.pop()\n",
    "            dfs()\n",
    "        \n",
    "        dfs()\n",
    "        return ans\n",
    "            \n",
    "        \n",
    "    \n",
    "solution=Solution()\n",
    "arr=[1,2,3]\n",
    "solution.pancakeSort(arr)\n",
    "\n"
   ]
  },
  {
   "cell_type": "code",
   "execution_count": 12,
   "metadata": {},
   "outputs": [
    {
     "data": {
      "text/plain": [
       "999999984"
      ]
     },
     "execution_count": 12,
     "metadata": {},
     "output_type": "execute_result"
    }
   ],
   "source": [
    "class Solution:\n",
    "    def getNumberOfBacklogOrder(self,orders):\n",
    "        buyOrders={}\n",
    "        sellOrders={}\n",
    "        buy,sell=[],[]\n",
    "        mod=10**9+7\n",
    "        import bisect\n",
    "        for price,amount,type in orders:\n",
    "            if type==0: # buy order\n",
    "                if len(sell)>0:\n",
    "                    i=0\n",
    "                    while i<len(sell):\n",
    "                        if sell[i]<=price:\n",
    "                            a=sellOrders[sell[i]]\n",
    "                            if amount>=a:\n",
    "                                amount-=a\n",
    "                                sellOrders.pop(sell[i])\n",
    "                                sell.pop(i)\n",
    "                                if amount==0:break\n",
    "                            else:\n",
    "                                sellOrders[sell[i]]=a-amount\n",
    "                                amount=0\n",
    "                                break\n",
    "                        else:break\n",
    "                    if amount>0:\n",
    "                        if price in buyOrders.keys():\n",
    "                            buyOrders[price]+=amount\n",
    "                        else:\n",
    "                            buyOrders[price]=amount\n",
    "                            bisect.insort(buy,price)      \n",
    "                else:\n",
    "                    if price in buyOrders.keys():\n",
    "                        buyOrders[price]+=amount\n",
    "                    else:\n",
    "                        buyOrders[price]=amount\n",
    "                        bisect.insort(buy,price)\n",
    "            else: # sell order\n",
    "                if len(buy)>0:\n",
    "                    k=len(buy)-1\n",
    "                    while k>=0:\n",
    "                        if buy[k]>=price:\n",
    "                            a=buyOrders[buy[k]]\n",
    "                            if amount>=a:\n",
    "                                amount-=a\n",
    "                                buyOrders.pop(buy[k])\n",
    "                                buy.pop(k)\n",
    "                                if amount==0:break\n",
    "                            else:\n",
    "                                buyOrders[buy[k]]=a-amount\n",
    "                                amount=0\n",
    "                                break\n",
    "                        else:break\n",
    "                    if amount>0:\n",
    "                        if price in sellOrders.keys():\n",
    "                            sellOrders[price]+=amount\n",
    "                        else:\n",
    "                            sellOrders[price]=amount\n",
    "                            bisect.insort(sell,price)\n",
    "                else:\n",
    "                    if price in sellOrders.keys():\n",
    "                        sellOrders[price]+=amount\n",
    "                    else:\n",
    "                        sellOrders[price]=amount\n",
    "                        bisect.insort(sell,price)\n",
    "  \n",
    "        return (sum(list(buyOrders.values()))+sum(list(sellOrders.values())))%mod\n",
    "                            \n",
    "\n",
    "            \n",
    "                 \n",
    "\n",
    "\n",
    "solution=Solution()\n",
    "orders = [[7,1000000000,1],[15,3,0],[5,999999995,0],[5,1,1]]\n",
    "solution.getNumberOfBacklogOrder(orders)\n",
    "            \n",
    "\n",
    "\n",
    "\n",
    "            "
   ]
  },
  {
   "cell_type": "code",
   "execution_count": 23,
   "metadata": {},
   "outputs": [
    {
     "name": "stdout",
     "output_type": "stream",
     "text": [
      "['04', '24', '37', '96']\n"
     ]
    }
   ],
   "source": [
    "def radixSort(nums):\n",
    "    n=len(nums[0])\n",
    "    bags=[[] for m in range(10)]\n",
    "\n",
    "    for i in range(n-1,-1,-1):\n",
    "        for k in nums:\n",
    "            tmp=int(k[i])\n",
    "            bags[tmp].append(k)\n",
    "        _nums=[]\n",
    "        for j in bags:\n",
    "            _nums.extend(j)\n",
    "        nums=_nums\n",
    "        bags=[[] for m in range(10)]\n",
    "    print(nums)\n",
    "nums=['24','37','96','04']\n",
    "radixSort(nums)\n"
   ]
  },
  {
   "cell_type": "code",
   "execution_count": 2,
   "metadata": {},
   "outputs": [
    {
     "data": {
      "text/plain": [
       "5"
      ]
     },
     "execution_count": 2,
     "metadata": {},
     "output_type": "execute_result"
    }
   ],
   "source": [
    "class Solution:\n",
    "    def numTrees(self,n):\n",
    "        dict1={0:1,1:1,2:2}\n",
    "        def dfs(m):\n",
    "            if m in dict1.keys():\n",
    "                return dict1[m]\n",
    "            else:\n",
    "                count=0\n",
    "                for i in range(m):\n",
    "                    count=count+dfs(i)*dfs(m-i-1)\n",
    "                dict1[m]=count\n",
    "                return count\n",
    "        return dfs(n)       \n",
    "     \n",
    "solution=Solution()\n",
    "solution.numTrees(3)\n",
    "\n",
    "        "
   ]
  },
  {
   "attachments": {},
   "cell_type": "markdown",
   "metadata": {},
   "source": [
    "matplotlib.animation.FuncAnimation(fig, func, frames=None, init_func=None, fargs=None, save_count=None,*,\n",
    "cache_frame_data=True, **kwargs)\n",
    "\n",
    "fig (Figure), the figure object used to get needed events, such as draw or resize.\n",
    "func (callable), the function to call at each frame. \n",
    "frames (iterable, int, generator function, or None, optional), source of data to pass func and each frame of the animation.\n",
    "init_func (callable, optional), a function used to draw a clear frame. If blit==True, init_func must return an iterable of artists to be re-drawn. \n",
    "fargs (tuple or None, optinal), additional arguments to pass to each call to func. \n",
    "save_count (int,optinal), fallback for the number of values from frames to cache. This is only used if the number of frames cannot be inferred from frames. \n",
    "interval (int, default=200), delay between frames in ms.\n",
    "repeat_delay (int, default=0), the delay in ms between consecutive animation runs. "
   ]
  },
  {
   "cell_type": "code",
   "execution_count": null,
   "metadata": {},
   "outputs": [],
   "source": [
    "import matplotlib.pyplot as plt\n",
    "import matplotlib.animation as ani\n",
    "\n",
    "def bezierCurve(points,k):\n",
    "    # fig,ax=plt.subplots()\n",
    "    pointX,pointY=[],[]\n",
    "    for i in points:\n",
    "        pointX.append(i[0])\n",
    "        pointY.append(i[1])\n",
    "    plt.plot(pointX,pointY,'o--',color='grey')\n",
    "    \n",
    "    internalPoints=[]\n",
    "    for i in range(len(points)-1):\n",
    "        p1,p2=points[i],points[i+1]\n",
    "        tmp=[]\n",
    "        for j in range(k+1):\n",
    "            x=(1-j/k)*p1[0]+j*p2[0]/k\n",
    "            y=(1-j/k)*p1[1]+j*p2[1]/k\n",
    "            tmp.append([x,y])\n",
    "        internalPoints.append(tmp)\n",
    "\n",
    "    while True:\n",
    "        _internal=[]\n",
    "        for i in range(len(internalPoints)-1):\n",
    "            p1,p2=internalPoints[i],internalPoints[i+1]\n",
    "            tmp=[]\n",
    "            for j in range(k+1):\n",
    "                x=(1-j/k)*p1[j][0]+j*p2[j][0]/k\n",
    "                y=(1-j/k)*p1[j][1]+j*p2[j][1]/k\n",
    "                tmp.append([x,y])\n",
    "            _internal.append(tmp)\n",
    "        if(len(_internal)==1):\n",
    "            x,y=[],[]\n",
    "            for i in _internal[0]:\n",
    "                x.append(i[0])\n",
    "                y.append(i[1])\n",
    "            plt.plot(x,y)\n",
    "            break\n",
    "            # return _internal[0]\n",
    "        else:\n",
    "            internalPoints=_internal\n",
    "\n",
    "\n",
    "\n",
    "points=[[0, 0], [2, 3], [4, 3], [5, 0]]\n",
    "ans=bezierCurve(points,20)\n",
    "\n"
   ]
  },
  {
   "cell_type": "code",
   "execution_count": null,
   "metadata": {},
   "outputs": [],
   "source": [
    "import matplotlib.pyplot as plt\n",
    "import numpy as np\n",
    "import math\n",
    "\n",
    "# Generate Bezier curve using control points\n",
    "def generate_bezier_curve(control_points, num_points=20):\n",
    "    t = np.linspace(0, 1, num_points)\n",
    "    n = len(control_points)\n",
    "    curve_points = np.zeros((num_points, 2))\n",
    "\n",
    "    for i in range(num_points):\n",
    "        time=t[i]\n",
    "        b=[math.comb(n-1,j)*time**j*(1-time)**(n-1-j) for j in range(n)]\n",
    "        curve_points[i]=np.dot(b,control_points)\n",
    "\n",
    "    return curve_points\n",
    "\n",
    "# Example usage with 4 control points\n",
    "control_points = np.array([[0, 0], [2, 3], [4, 3], [5, 0]])\n",
    "# curve_points = generate_bezier_curve(control_points)\n",
    "\n",
    "# Use the plot function in matplotlib to display the generated Bezier curve on a graph\n",
    "# plt.plot(curve_points[:, 0], curve_points[:, 1])\n",
    "plt.plot(control_points[:,0],control_points[:,1],'o--',color='grey')\n",
    "plt.show()"
   ]
  },
  {
   "cell_type": "code",
   "execution_count": null,
   "metadata": {},
   "outputs": [],
   "source": [
    "import matplotlib.pyplot as plt\n",
    "import numpy as np\n",
    "\n",
    "control_points = np.array([[0, 0], [2, 3], [4, 3], [5, 0]])\n",
    "fig,ax=plt.subplots()\n",
    "ax.plot(control_points[:,0],control_points[:,1],'o--',color='grey')\n",
    "\n",
    "ax.annotate('A',xy=(-0.3,0),fontsize=15)\n",
    "ax.annotate('B',xy=(1.7,3),fontsize=15)\n",
    "ax.annotate('C',xy=(4.2,3),fontsize=15)\n",
    "ax.annotate('D',xy=(5.2,0),fontsize=15)\n",
    "t=0.4\n",
    "\n",
    "internal_points=np.zeros((3,2))\n",
    "for i in range(len(control_points)-1):\n",
    "    internal_points[i]=(1-t)*control_points[i]+t*control_points[i+1]\n",
    "\n",
    "ax.plot(internal_points[:,0],internal_points[:,1],'o-')\n",
    "ax.annotate('E',xy=(0.5,1.2),fontsize=15)\n",
    "ax.annotate('F',xy=(2.8,3.1),fontsize=15)\n",
    "ax.annotate('G',xy=(4.6,1.8),fontsize=15)\n",
    "\n",
    "second_points=np.zeros((2,2))\n",
    "for i in range(len(internal_points)-1):\n",
    "    second_points[i]=(1-t)*internal_points[i]+t*internal_points[i+1]\n",
    "\n",
    "ax.plot(second_points[:,0],second_points[:,1],'o-')\n",
    "\n",
    "ax.annotate('H',xy=(1.5,2.1),fontsize=15)\n",
    "ax.annotate('I',xy=(3.44,2.6),fontsize=15)\n",
    "\n",
    "third_points=(1-t)*second_points[0]+t*second_points[1]\n",
    "print(third_points)\n",
    "ax.plot(third_points[0],third_points[1],'o')\n",
    "ax.annotate('J',xy=(2.336,2.3),fontsize=15)\n",
    "\n",
    "ax.set(xlim=[-1,6],ylim=[-0.5,3.5])\n",
    "plt.show()"
   ]
  },
  {
   "cell_type": "code",
   "execution_count": 40,
   "metadata": {},
   "outputs": [
    {
     "data": {
      "image/png": "[encoded data removed]",
      "text/plain": [
       "<Figure size 640x480 with 1 Axes>"
      ]
     },
     "metadata": {},
     "output_type": "display_data"
    }
   ],
   "source": [
    "import numpy as np\n",
    "import matplotlib.pyplot as plt\n",
    "\n",
    "def bSplineGenerator(points,num_points,degree):\n",
    "    m,k=len(points),degree\n",
    "    knot_vector=[0]*(m+k+1)\n",
    "    for i in range(4,m+k+1):\n",
    "        if i<m:\n",
    "            knot_vector[i]=i-k\n",
    "        else:\n",
    "            knot_vector[i]=m-k\n",
    "    \n",
    "    t=np.linspace(0,m-k,num_points)\n",
    "    curve_points=np.zeros((num_points,2))\n",
    "    n_array=np.zeros((m+k,num_points))\n",
    "    \n",
    "    # initialize order 0\n",
    "    for i in range(num_points):\n",
    "        time=t[i]\n",
    "        if knot_vector[3]<=time<knot_vector[4]:\n",
    "            n_array[3][i]=1\n",
    "        elif knot_vector[4]<=time<knot_vector[5]:\n",
    "            n_array[4][i]=1\n",
    "        elif knot_vector[5]<=time<=knot_vector[6]:\n",
    "            n_array[5][i]=1\n",
    "    for order in range(1,k+1):\n",
    "        _array=np.zeros((m+k-order,num_points))\n",
    "        for p in range(m+k-order):\n",
    "            for i in range(num_points):\n",
    "                time=t[i]\n",
    "                coef=[0,0]\n",
    "                if knot_vector[p+order]!=knot_vector[p]:\n",
    "                    coef[0]=(time-knot_vector[p])/(knot_vector[p+order]-knot_vector[p])\n",
    "                if knot_vector[p+order+1]!=knot_vector[p+1]:\n",
    "                    coef[1]=(knot_vector[p+order+1]-time)/(knot_vector[p+order+1]-knot_vector[p+1])\n",
    "                _array[p][i]=coef[0]*n_array[p][i]+coef[1]*n_array[p+1][i]\n",
    "        n_array=_array\n",
    "    for i in range(num_points):\n",
    "        array=[0]*m\n",
    "        for j in range(m):\n",
    "            array[j]=n_array[j][i]\n",
    "        curve_points[i]=np.dot(array,points)\n",
    "    return curve_points\n",
    "\n",
    "control_points=np.array([[0, 0], [2, 3], [4, 3], [5, 0],[7,1],[9,0]])\n",
    "curve_points=bSplineGenerator(control_points,50,4)\n",
    "plt.plot(curve_points[:, 0], curve_points[:, 1])\n",
    "plt.plot(control_points[:,0],control_points[:,1],'o--',color='grey')\n",
    "plt.show()\n",
    "\n",
    "    \n",
    "\n"
   ]
  },
  {
   "cell_type": "code",
   "execution_count": 54,
   "metadata": {},
   "outputs": [
    {
     "name": "stdout",
     "output_type": "stream",
     "text": [
      "[0.0, 0.31564367983671093, 0.6304125965884239, 0.9434319871701413, 1.2538270884968654, 1.5607231374835981, 1.8632453710453418, 2.160519026097098, 2.4516693395538707, 2.7358215483306605]\n",
      "0\n",
      "0\n"
     ]
    },
    {
     "data": {
      "image/png": "[encoded data removed]",
      "text/plain": [
       "<Figure size 640x480 with 1 Axes>"
      ]
     },
     "metadata": {},
     "output_type": "display_data"
    }
   ],
   "source": [
    "import numpy as np\n",
    "import matplotlib.pyplot as plt\n",
    "\n",
    "def bezierGenerator(control_points,num_points):\n",
    "    t=np.linspace(0,1,num_points)\n",
    "    all_points=[]\n",
    "    n=len(control_points)\n",
    "    first_order=[]\n",
    "    for i in range(n-1):\n",
    "        point=[]\n",
    "        for j in range(num_points):\n",
    "            time=t[j]\n",
    "            tmp=(1-time)*control_points[i]+time*control_points[i+1]\n",
    "            point.append(tmp)\n",
    "        first_order.append(point)\n",
    "    all_points.append(first_order)\n",
    "\n",
    "    for i in range(2,n):\n",
    "        internal=all_points[-1]\n",
    "        m=len(internal)\n",
    "        order_points=[]\n",
    "        for j in range(m-1):\n",
    "            point=[]\n",
    "            for k in range(num_points):\n",
    "                time=t[k]\n",
    "                tmp=(1-time)*internal[j][k]+time*internal[j+1][k]\n",
    "                point.append(tmp)\n",
    "            order_points.append(point)\n",
    "        all_points.append(order_points)\n",
    "    \n",
    "    drawCurve(control_points,all_points,num_points)\n",
    "\n",
    "def drawCurve(control_points, all_points,num_points):\n",
    "    import matplotlib.animation as ani\n",
    "    fig,ax=plt.subplots()\n",
    "    n=len(control_points)\n",
    "    ax.plot(control_points[:,0],control_points[:,1],'o--',color='grey')\n",
    "    t=[i for i in range(num_points)]\n",
    "    curve_points=all_points[-1][0]\n",
    "    x,y=[],[]\n",
    "    for i in curve_points:\n",
    "        x.append(i[0])\n",
    "        y.append(i[1])\n",
    "\n",
    "    num=(n-1)*(n-2)//2\n",
    "    lines=[]\n",
    "    for i in range(num+1):\n",
    "        line, =ax.plot([0,1],[0,1],'o')\n",
    "        lines.append(line)\n",
    "\n",
    "    def animate(i):\n",
    "        print(i)\n",
    "        m=0\n",
    "        for j in range(len(all_points)-1):\n",
    "            points=all_points[j]\n",
    "            n=len(points)\n",
    "            for k in range(n-1):\n",
    "                lines[m].set_data([points[k][i][0],points[k+1][i][0]],[points[k][i][1],points[k+1][i][1]])\n",
    "                m+=1\n",
    "        # lines[-1].set_data(x[:,i],y[:,i])\n",
    "        return lines\n",
    "\n",
    "    ani=ani.FuncAnimation(fig,animate,interval=20,blit=True,frames=t)\n",
    "    plt.show()       \n",
    "\n",
    "control_points=np.array([[0, 0], [2, 3], [4, 3], [5, 0]])        \n",
    "bezierGenerator(control_points,20)\n",
    "\n"
   ]
  },
  {
   "cell_type": "code",
   "execution_count": null,
   "metadata": {},
   "outputs": [],
   "source": [
    "import numpy as np\n",
    "\n",
    "t=np.linspace(0,1,10).reshape(10,1)\n",
    "control_points=np.array([[0, 0], [2, 3], [4, 3], [5, 0]])  \n",
    "first=np.zeros((3,10,2))\n",
    "for i in range(3):\n",
    "    first[i]=(1-t)*control_points[i]+t*control_points[i+1]\n",
    "print(first)\n"
   ]
  },
  {
   "cell_type": "code",
   "execution_count": 1,
   "metadata": {},
   "outputs": [
    {
     "data": {
      "text/plain": [
       "65"
      ]
     },
     "execution_count": 1,
     "metadata": {},
     "output_type": "execute_result"
    }
   ],
   "source": [
    "ord('A')"
   ]
  }
 ],
 "metadata": {
  "kernelspec": {
   "display_name": "Python 3.10.7 64-bit",
   "language": "python",
   "name": "python3"
  },
  "language_info": {
   "codemirror_mode": {
    "name": "ipython",
    "version": 3
   },
   "file_extension": ".py",
   "mimetype": "text/x-python",
   "name": "python",
   "nbconvert_exporter": "python",
   "pygments_lexer": "ipython3",
   "version": "3.10.7"
  },
  "orig_nbformat": 4,
  "vscode": {
   "interpreter": {
    "hash": "0cc696f1fe5d60a21f248a0a13c945aefac4529f0b7e383b26d579cf93265905"
   }
  }
 },
 "nbformat": 4,
 "nbformat_minor": 2
}
